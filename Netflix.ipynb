{
 "cells": [
  {
   "cell_type": "code",
   "execution_count": 1,
   "metadata": {},
   "outputs": [],
   "source": [
    "# import some libraries\n",
    "import pandas as pd"
   ]
  },
  {
   "cell_type": "markdown",
   "metadata": {},
   "source": [
    "# Task 1 : What is the most popular release year for movies on Netflix"
   ]
  },
  {
   "cell_type": "code",
   "execution_count": 76,
   "metadata": {},
   "outputs": [],
   "source": [
    "# Read file \n",
    "movie_df = pd.read_csv('netflix_titles.csv')\n",
    "\n",
    "type_movie  =  movie_df[movie_df['type']== 'Movie'].reindex(['type','release_year'], axis =1)\n",
    "\n",
    "type_movie['count'] = 1\n",
    "\n",
    "sum_count_df = type_movie.groupby('release_year').sum().reset_index()\n",
    "Task1_answer = sum_count_df.sort_values('count',ascending=False)\n",
    "\n",
    "# type ,  release year"
   ]
  },
  {
   "cell_type": "markdown",
   "metadata": {},
   "source": [
    "# Task 2 : What year did netflix add the most movie to its platform ?"
   ]
  },
  {
   "cell_type": "code",
   "execution_count": 96,
   "metadata": {},
   "outputs": [
    {
     "name": "stderr",
     "output_type": "stream",
     "text": [
      "/var/folders/n7/scjk8ghj3ns82vyn2x1_s7wh0000gn/T/ipykernel_1730/2497954487.py:6: SettingWithCopyWarning: \n",
      "A value is trying to be set on a copy of a slice from a DataFrame.\n",
      "Try using .loc[row_indexer,col_indexer] = value instead\n",
      "\n",
      "See the caveats in the documentation: https://pandas.pydata.org/pandas-docs/stable/user_guide/indexing.html#returning-a-view-versus-a-copy\n",
      "  type_mv_df['count'] = 1\n"
     ]
    }
   ],
   "source": [
    "add_to_netflix= movie_df['date_added'].str.split(',', expand = True)\n",
    "\n",
    "movie_df['add_to_netflix'] = add_to_netflix[1]\n",
    "\n",
    "type_mv_df = movie_df[movie_df['type'] == 'Movie']\n",
    "type_mv_df['count'] = 1\n",
    "to_netflix_platform = type_mv_df.groupby('add_to_netflix').sum()['count'].reset_index()\n",
    "\n",
    "Task2_answer = to_netflix_platform.sort_values('count',ascending = False)\n"
   ]
  },
  {
   "cell_type": "markdown",
   "metadata": {},
   "source": [
    "# Task 3 :  Independent of year ,  what is  the most popular month to add new content ?"
   ]
  },
  {
   "cell_type": "code",
   "execution_count": 91,
   "metadata": {},
   "outputs": [],
   "source": [
    "movie_df['new_date'] = pd.to_datetime(movie_df['date_added'])\n",
    "movie_df['month'] = movie_df['new_date'].dt.month\n",
    "movie_df['count'] = 1\n",
    "Task3_answer = movie_df.groupby('month').sum()['count'].reset_index()\n",
    "Task3_answer = Task3_answer.sort_values('count',ascending=False)"
   ]
  },
  {
   "cell_type": "markdown",
   "metadata": {},
   "source": [
    "# Task 4 : What is the movie with the longest title in the dataset ?"
   ]
  },
  {
   "cell_type": "code",
   "execution_count": 117,
   "metadata": {},
   "outputs": [
    {
     "name": "stderr",
     "output_type": "stream",
     "text": [
      "/var/folders/n7/scjk8ghj3ns82vyn2x1_s7wh0000gn/T/ipykernel_1730/1401604614.py:2: SettingWithCopyWarning: \n",
      "A value is trying to be set on a copy of a slice from a DataFrame.\n",
      "Try using .loc[row_indexer,col_indexer] = value instead\n",
      "\n",
      "See the caveats in the documentation: https://pandas.pydata.org/pandas-docs/stable/user_guide/indexing.html#returning-a-view-versus-a-copy\n",
      "  movie_mv['title_len'] = movie_mv['title'].apply( lambda x : len(x))\n"
     ]
    }
   ],
   "source": [
    "movie_mv = movie_df[movie_df['type'] == 'Movie']\n",
    "movie_mv['title_len'] = movie_mv['title'].apply( lambda x : len(x))\n",
    "top_title_length = movie_mv.sort_values(['title_len'],ascending=False)\n"
   ]
  },
  {
   "cell_type": "markdown",
   "metadata": {},
   "source": [
    "# Task 5 : Which actor / actress shows up the most frequently in the netflix database ?"
   ]
  },
  {
   "cell_type": "code",
   "execution_count": 224,
   "metadata": {},
   "outputs": [
    {
     "data": {
      "text/plain": [
       "('anupam kher', 42)"
      ]
     },
     "execution_count": 224,
     "metadata": {},
     "output_type": "execute_result"
    }
   ],
   "source": [
    "from ast import Index\n",
    "import collections\n",
    "\n",
    "movie_df.dropna(subset=['cast'],axis=0,inplace=True)\n",
    "actor_list = []\n",
    "cast_df = movie_df['cast'].str.split(',',expand=True).reset_index(drop=True)\n",
    "\n",
    "# cast_df\n",
    "\n",
    "for index in range(len(cast_df)):\n",
    "    for element in cast_df.iloc[index]:\n",
    "        if isinstance(element,str):\n",
    "            element = element.strip().lower()\n",
    "            actor_list.append(element)\n",
    "  \n",
    "c = collections.Counter(actor_list)\n",
    "Task5_answer = c.most_common()[0]\n",
    "Task5_answer\n"
   ]
  }
 ],
 "metadata": {
  "kernelspec": {
   "display_name": "Python 3.10.5 64-bit",
   "language": "python",
   "name": "python3"
  },
  "language_info": {
   "codemirror_mode": {
    "name": "ipython",
    "version": 3
   },
   "file_extension": ".py",
   "mimetype": "text/x-python",
   "name": "python",
   "nbconvert_exporter": "python",
   "pygments_lexer": "ipython3",
   "version": "3.10.5"
  },
  "orig_nbformat": 4,
  "vscode": {
   "interpreter": {
    "hash": "aee8b7b246df8f9039afb4144a1f6fd8d2ca17a180786b69acc140d282b71a49"
   }
  }
 },
 "nbformat": 4,
 "nbformat_minor": 2
}
